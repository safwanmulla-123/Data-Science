{
 "cells": [
  {
   "cell_type": "markdown",
   "metadata": {},
   "source": [
    "# Predicting Listing Gains in the Indian IPO Market Using TensorFlow\n",
    "\n",
    "In this project, we will work as a data scientist for an investment firm that is interested in investing in the Initial Public Offerings (IPO) in the Indian market. Our task is to build a deep learning classification model to determine if there will be listing gains for the IPO. Listing gains are the percentage increase in the share price of a company from its IPO issue price on the day of listing.\n",
    "\n",
    "The dataset we'll be using for this project contains information on past IPOs in the Indian market and comes from moneycontrol.\n",
    "\n",
    "We'll cover all the major steps of the modeling pipeline, starting with exploratory data analysis, then moving on to visualizing the important variables, then finally creating a deep learning classification model."
   ]
  },
  {
   "cell_type": "code",
   "execution_count": 97,
   "metadata": {},
   "outputs": [],
   "source": [
    "import pandas as pd\n",
    "import numpy as np\n",
    "import matplotlib.pyplot as plt\n",
    "import seaborn as sns\n",
    "import tensorflow as tf\n",
    "\n",
    "from tensorflow import keras\n",
    "from tensorflow.keras import layers\n",
    "from sklearn.model_selection import train_test_split"
   ]
  },
  {
   "cell_type": "code",
   "execution_count": 98,
   "metadata": {},
   "outputs": [],
   "source": [
    "indian_ipo_market_data = pd.read_csv('Indian_IPO_Market_Data.csv')\n"
   ]
  },
  {
   "cell_type": "code",
   "execution_count": 99,
   "metadata": {},
   "outputs": [
    {
     "data": {
      "text/html": [
       "<div>\n",
       "<style scoped>\n",
       "    .dataframe tbody tr th:only-of-type {\n",
       "        vertical-align: middle;\n",
       "    }\n",
       "\n",
       "    .dataframe tbody tr th {\n",
       "        vertical-align: top;\n",
       "    }\n",
       "\n",
       "    .dataframe thead th {\n",
       "        text-align: right;\n",
       "    }\n",
       "</style>\n",
       "<table border=\"1\" class=\"dataframe\">\n",
       "  <thead>\n",
       "    <tr style=\"text-align: right;\">\n",
       "      <th></th>\n",
       "      <th>Date</th>\n",
       "      <th>IPOName</th>\n",
       "      <th>Issue_Size</th>\n",
       "      <th>Subscription_QIB</th>\n",
       "      <th>Subscription_HNI</th>\n",
       "      <th>Subscription_RII</th>\n",
       "      <th>Subscription_Total</th>\n",
       "      <th>Issue_Price</th>\n",
       "      <th>Listing_Gains_Percent</th>\n",
       "    </tr>\n",
       "  </thead>\n",
       "  <tbody>\n",
       "    <tr>\n",
       "      <th>0</th>\n",
       "      <td>03/02/10</td>\n",
       "      <td>Infinite Comp</td>\n",
       "      <td>189.80</td>\n",
       "      <td>48.44</td>\n",
       "      <td>106.02</td>\n",
       "      <td>11.08</td>\n",
       "      <td>43.22</td>\n",
       "      <td>165</td>\n",
       "      <td>11.82</td>\n",
       "    </tr>\n",
       "    <tr>\n",
       "      <th>1</th>\n",
       "      <td>08/02/10</td>\n",
       "      <td>Jubilant Food</td>\n",
       "      <td>328.70</td>\n",
       "      <td>59.39</td>\n",
       "      <td>51.95</td>\n",
       "      <td>3.79</td>\n",
       "      <td>31.11</td>\n",
       "      <td>145</td>\n",
       "      <td>-84.21</td>\n",
       "    </tr>\n",
       "    <tr>\n",
       "      <th>2</th>\n",
       "      <td>15/02/10</td>\n",
       "      <td>Syncom Health</td>\n",
       "      <td>56.25</td>\n",
       "      <td>0.99</td>\n",
       "      <td>16.60</td>\n",
       "      <td>6.25</td>\n",
       "      <td>5.17</td>\n",
       "      <td>75</td>\n",
       "      <td>17.13</td>\n",
       "    </tr>\n",
       "    <tr>\n",
       "      <th>3</th>\n",
       "      <td>15/02/10</td>\n",
       "      <td>Vascon Engineer</td>\n",
       "      <td>199.80</td>\n",
       "      <td>1.12</td>\n",
       "      <td>3.65</td>\n",
       "      <td>0.62</td>\n",
       "      <td>1.22</td>\n",
       "      <td>165</td>\n",
       "      <td>-11.28</td>\n",
       "    </tr>\n",
       "    <tr>\n",
       "      <th>4</th>\n",
       "      <td>19/02/10</td>\n",
       "      <td>Thangamayil</td>\n",
       "      <td>0.00</td>\n",
       "      <td>0.52</td>\n",
       "      <td>1.52</td>\n",
       "      <td>2.26</td>\n",
       "      <td>1.12</td>\n",
       "      <td>75</td>\n",
       "      <td>-5.20</td>\n",
       "    </tr>\n",
       "  </tbody>\n",
       "</table>\n",
       "</div>"
      ],
      "text/plain": [
       "      Date           IPOName  Issue_Size  Subscription_QIB  Subscription_HNI  \\\n",
       "0  03/02/10    Infinite Comp      189.80             48.44            106.02   \n",
       "1  08/02/10    Jubilant Food      328.70             59.39             51.95   \n",
       "2  15/02/10    Syncom Health       56.25              0.99             16.60   \n",
       "3  15/02/10  Vascon Engineer      199.80              1.12              3.65   \n",
       "4  19/02/10      Thangamayil        0.00              0.52              1.52   \n",
       "\n",
       "   Subscription_RII  Subscription_Total  Issue_Price  Listing_Gains_Percent  \n",
       "0             11.08               43.22          165                  11.82  \n",
       "1              3.79               31.11          145                 -84.21  \n",
       "2              6.25                5.17           75                  17.13  \n",
       "3              0.62                1.22          165                 -11.28  \n",
       "4              2.26                1.12           75                  -5.20  "
      ]
     },
     "execution_count": 99,
     "metadata": {},
     "output_type": "execute_result"
    }
   ],
   "source": [
    "indian_ipo_market_data.head() # viewing the data"
   ]
  },
  {
   "cell_type": "code",
   "execution_count": 100,
   "metadata": {},
   "outputs": [
    {
     "name": "stdout",
     "output_type": "stream",
     "text": [
      "<class 'pandas.core.frame.DataFrame'>\n",
      "RangeIndex: 319 entries, 0 to 318\n",
      "Data columns (total 9 columns):\n",
      " #   Column                 Non-Null Count  Dtype  \n",
      "---  ------                 --------------  -----  \n",
      " 0   Date                   319 non-null    object \n",
      " 1   IPOName                319 non-null    object \n",
      " 2   Issue_Size             319 non-null    float64\n",
      " 3   Subscription_QIB       319 non-null    float64\n",
      " 4   Subscription_HNI       319 non-null    float64\n",
      " 5   Subscription_RII       319 non-null    float64\n",
      " 6   Subscription_Total     319 non-null    float64\n",
      " 7   Issue_Price            319 non-null    int64  \n",
      " 8   Listing_Gains_Percent  319 non-null    float64\n",
      "dtypes: float64(6), int64(1), object(2)\n",
      "memory usage: 22.6+ KB\n"
     ]
    }
   ],
   "source": [
    "indian_ipo_market_data.info() # checking the columns and their datatypes"
   ]
  },
  {
   "cell_type": "code",
   "execution_count": 101,
   "metadata": {},
   "outputs": [
    {
     "data": {
      "text/plain": [
       "Date                     0\n",
       "IPOName                  0\n",
       "Issue_Size               0\n",
       "Subscription_QIB         0\n",
       "Subscription_HNI         0\n",
       "Subscription_RII         0\n",
       "Subscription_Total       0\n",
       "Issue_Price              0\n",
       "Listing_Gains_Percent    0\n",
       "dtype: int64"
      ]
     },
     "execution_count": 101,
     "metadata": {},
     "output_type": "execute_result"
    }
   ],
   "source": [
    "indian_ipo_market_data.isna().sum() # checking for null-values"
   ]
  },
  {
   "cell_type": "code",
   "execution_count": 102,
   "metadata": {},
   "outputs": [
    {
     "name": "stdout",
     "output_type": "stream",
     "text": [
      "count    319.000000\n",
      "mean       4.742696\n",
      "std       47.650946\n",
      "min      -97.150000\n",
      "25%      -11.555000\n",
      "50%        1.810000\n",
      "75%       25.310000\n",
      "max      270.400000\n",
      "Name: Listing_Gains_Percent, dtype: float64\n"
     ]
    }
   ],
   "source": [
    "print(indian_ipo_market_data['Listing_Gains_Percent'].describe()) # checking the summary stats for our target variable\n",
    "      "
   ]
  },
  {
   "cell_type": "markdown",
   "metadata": {},
   "source": [
    "We want to create a classification model, but out target variable, 'Listing_Gains_Percent', is a continious variable. We will convert it to categorical variable"
   ]
  },
  {
   "cell_type": "code",
   "execution_count": 103,
   "metadata": {},
   "outputs": [
    {
     "data": {
      "text/html": [
       "<div>\n",
       "<style scoped>\n",
       "    .dataframe tbody tr th:only-of-type {\n",
       "        vertical-align: middle;\n",
       "    }\n",
       "\n",
       "    .dataframe tbody tr th {\n",
       "        vertical-align: top;\n",
       "    }\n",
       "\n",
       "    .dataframe thead th {\n",
       "        text-align: right;\n",
       "    }\n",
       "</style>\n",
       "<table border=\"1\" class=\"dataframe\">\n",
       "  <thead>\n",
       "    <tr style=\"text-align: right;\">\n",
       "      <th></th>\n",
       "      <th>Date</th>\n",
       "      <th>IPOName</th>\n",
       "      <th>Issue_Size</th>\n",
       "      <th>Subscription_QIB</th>\n",
       "      <th>Subscription_HNI</th>\n",
       "      <th>Subscription_RII</th>\n",
       "      <th>Subscription_Total</th>\n",
       "      <th>Issue_Price</th>\n",
       "      <th>Listing_Gains_Percent</th>\n",
       "      <th>Listing_Gains_Profit</th>\n",
       "    </tr>\n",
       "  </thead>\n",
       "  <tbody>\n",
       "    <tr>\n",
       "      <th>0</th>\n",
       "      <td>03/02/10</td>\n",
       "      <td>Infinite Comp</td>\n",
       "      <td>189.80</td>\n",
       "      <td>48.44</td>\n",
       "      <td>106.02</td>\n",
       "      <td>11.08</td>\n",
       "      <td>43.22</td>\n",
       "      <td>165</td>\n",
       "      <td>11.82</td>\n",
       "      <td>1</td>\n",
       "    </tr>\n",
       "    <tr>\n",
       "      <th>1</th>\n",
       "      <td>08/02/10</td>\n",
       "      <td>Jubilant Food</td>\n",
       "      <td>328.70</td>\n",
       "      <td>59.39</td>\n",
       "      <td>51.95</td>\n",
       "      <td>3.79</td>\n",
       "      <td>31.11</td>\n",
       "      <td>145</td>\n",
       "      <td>-84.21</td>\n",
       "      <td>0</td>\n",
       "    </tr>\n",
       "    <tr>\n",
       "      <th>2</th>\n",
       "      <td>15/02/10</td>\n",
       "      <td>Syncom Health</td>\n",
       "      <td>56.25</td>\n",
       "      <td>0.99</td>\n",
       "      <td>16.60</td>\n",
       "      <td>6.25</td>\n",
       "      <td>5.17</td>\n",
       "      <td>75</td>\n",
       "      <td>17.13</td>\n",
       "      <td>1</td>\n",
       "    </tr>\n",
       "    <tr>\n",
       "      <th>3</th>\n",
       "      <td>15/02/10</td>\n",
       "      <td>Vascon Engineer</td>\n",
       "      <td>199.80</td>\n",
       "      <td>1.12</td>\n",
       "      <td>3.65</td>\n",
       "      <td>0.62</td>\n",
       "      <td>1.22</td>\n",
       "      <td>165</td>\n",
       "      <td>-11.28</td>\n",
       "      <td>0</td>\n",
       "    </tr>\n",
       "    <tr>\n",
       "      <th>4</th>\n",
       "      <td>19/02/10</td>\n",
       "      <td>Thangamayil</td>\n",
       "      <td>0.00</td>\n",
       "      <td>0.52</td>\n",
       "      <td>1.52</td>\n",
       "      <td>2.26</td>\n",
       "      <td>1.12</td>\n",
       "      <td>75</td>\n",
       "      <td>-5.20</td>\n",
       "      <td>0</td>\n",
       "    </tr>\n",
       "  </tbody>\n",
       "</table>\n",
       "</div>"
      ],
      "text/plain": [
       "      Date           IPOName  Issue_Size  Subscription_QIB  Subscription_HNI  \\\n",
       "0  03/02/10    Infinite Comp      189.80             48.44            106.02   \n",
       "1  08/02/10    Jubilant Food      328.70             59.39             51.95   \n",
       "2  15/02/10    Syncom Health       56.25              0.99             16.60   \n",
       "3  15/02/10  Vascon Engineer      199.80              1.12              3.65   \n",
       "4  19/02/10      Thangamayil        0.00              0.52              1.52   \n",
       "\n",
       "   Subscription_RII  Subscription_Total  Issue_Price  Listing_Gains_Percent  \\\n",
       "0             11.08               43.22          165                  11.82   \n",
       "1              3.79               31.11          145                 -84.21   \n",
       "2              6.25                5.17           75                  17.13   \n",
       "3              0.62                1.22          165                 -11.28   \n",
       "4              2.26                1.12           75                  -5.20   \n",
       "\n",
       "   Listing_Gains_Profit  \n",
       "0                     1  \n",
       "1                     0  \n",
       "2                     1  \n",
       "3                     0  \n",
       "4                     0  "
      ]
     },
     "execution_count": 103,
     "metadata": {},
     "output_type": "execute_result"
    }
   ],
   "source": [
    "# Defining a function to apply on Listing_gains_profit to return a binary output for profit or loss\n",
    "def profit_loss(value):\n",
    "    if value > 0:\n",
    "        return 1\n",
    "    else:\n",
    "        return 0\n",
    "indian_ipo_market_data['Listing_Gains_Profit'] = indian_ipo_market_data['Listing_Gains_Percent'].apply(profit_loss)\n",
    "\n",
    "indian_ipo_market_data.head()\n"
   ]
  },
  {
   "cell_type": "code",
   "execution_count": 104,
   "metadata": {},
   "outputs": [
    {
     "data": {
      "text/html": [
       "<div>\n",
       "<style scoped>\n",
       "    .dataframe tbody tr th:only-of-type {\n",
       "        vertical-align: middle;\n",
       "    }\n",
       "\n",
       "    .dataframe tbody tr th {\n",
       "        vertical-align: top;\n",
       "    }\n",
       "\n",
       "    .dataframe thead th {\n",
       "        text-align: right;\n",
       "    }\n",
       "</style>\n",
       "<table border=\"1\" class=\"dataframe\">\n",
       "  <thead>\n",
       "    <tr style=\"text-align: right;\">\n",
       "      <th></th>\n",
       "      <th>Issue_Size</th>\n",
       "      <th>Subscription_QIB</th>\n",
       "      <th>Subscription_HNI</th>\n",
       "      <th>Subscription_RII</th>\n",
       "      <th>Subscription_Total</th>\n",
       "      <th>Issue_Price</th>\n",
       "      <th>Listing_Gains_Percent</th>\n",
       "      <th>Listing_Gains_Profit</th>\n",
       "    </tr>\n",
       "  </thead>\n",
       "  <tbody>\n",
       "    <tr>\n",
       "      <th>count</th>\n",
       "      <td>319.000000</td>\n",
       "      <td>319.000000</td>\n",
       "      <td>319.000000</td>\n",
       "      <td>319.000000</td>\n",
       "      <td>319.000000</td>\n",
       "      <td>319.000000</td>\n",
       "      <td>319.000000</td>\n",
       "      <td>319.000000</td>\n",
       "    </tr>\n",
       "    <tr>\n",
       "      <th>mean</th>\n",
       "      <td>1192.859969</td>\n",
       "      <td>25.684138</td>\n",
       "      <td>70.091379</td>\n",
       "      <td>8.561599</td>\n",
       "      <td>27.447147</td>\n",
       "      <td>375.128527</td>\n",
       "      <td>4.742696</td>\n",
       "      <td>0.545455</td>\n",
       "    </tr>\n",
       "    <tr>\n",
       "      <th>std</th>\n",
       "      <td>2384.643786</td>\n",
       "      <td>40.716782</td>\n",
       "      <td>142.454416</td>\n",
       "      <td>14.508670</td>\n",
       "      <td>48.772203</td>\n",
       "      <td>353.897614</td>\n",
       "      <td>47.650946</td>\n",
       "      <td>0.498712</td>\n",
       "    </tr>\n",
       "    <tr>\n",
       "      <th>min</th>\n",
       "      <td>0.000000</td>\n",
       "      <td>0.000000</td>\n",
       "      <td>0.000000</td>\n",
       "      <td>0.000000</td>\n",
       "      <td>0.000000</td>\n",
       "      <td>0.000000</td>\n",
       "      <td>-97.150000</td>\n",
       "      <td>0.000000</td>\n",
       "    </tr>\n",
       "    <tr>\n",
       "      <th>25%</th>\n",
       "      <td>169.005000</td>\n",
       "      <td>1.150000</td>\n",
       "      <td>1.255000</td>\n",
       "      <td>1.275000</td>\n",
       "      <td>1.645000</td>\n",
       "      <td>119.000000</td>\n",
       "      <td>-11.555000</td>\n",
       "      <td>0.000000</td>\n",
       "    </tr>\n",
       "    <tr>\n",
       "      <th>50%</th>\n",
       "      <td>496.250000</td>\n",
       "      <td>4.940000</td>\n",
       "      <td>5.070000</td>\n",
       "      <td>3.420000</td>\n",
       "      <td>4.930000</td>\n",
       "      <td>250.000000</td>\n",
       "      <td>1.810000</td>\n",
       "      <td>1.000000</td>\n",
       "    </tr>\n",
       "    <tr>\n",
       "      <th>75%</th>\n",
       "      <td>1100.000000</td>\n",
       "      <td>34.635000</td>\n",
       "      <td>62.095000</td>\n",
       "      <td>8.605000</td>\n",
       "      <td>33.395000</td>\n",
       "      <td>536.000000</td>\n",
       "      <td>25.310000</td>\n",
       "      <td>1.000000</td>\n",
       "    </tr>\n",
       "    <tr>\n",
       "      <th>max</th>\n",
       "      <td>21000.000000</td>\n",
       "      <td>215.450000</td>\n",
       "      <td>958.070000</td>\n",
       "      <td>119.440000</td>\n",
       "      <td>326.490000</td>\n",
       "      <td>2150.000000</td>\n",
       "      <td>270.400000</td>\n",
       "      <td>1.000000</td>\n",
       "    </tr>\n",
       "  </tbody>\n",
       "</table>\n",
       "</div>"
      ],
      "text/plain": [
       "         Issue_Size  Subscription_QIB  Subscription_HNI  Subscription_RII  \\\n",
       "count    319.000000        319.000000        319.000000        319.000000   \n",
       "mean    1192.859969         25.684138         70.091379          8.561599   \n",
       "std     2384.643786         40.716782        142.454416         14.508670   \n",
       "min        0.000000          0.000000          0.000000          0.000000   \n",
       "25%      169.005000          1.150000          1.255000          1.275000   \n",
       "50%      496.250000          4.940000          5.070000          3.420000   \n",
       "75%     1100.000000         34.635000         62.095000          8.605000   \n",
       "max    21000.000000        215.450000        958.070000        119.440000   \n",
       "\n",
       "       Subscription_Total  Issue_Price  Listing_Gains_Percent  \\\n",
       "count          319.000000   319.000000             319.000000   \n",
       "mean            27.447147   375.128527               4.742696   \n",
       "std             48.772203   353.897614              47.650946   \n",
       "min              0.000000     0.000000             -97.150000   \n",
       "25%              1.645000   119.000000             -11.555000   \n",
       "50%              4.930000   250.000000               1.810000   \n",
       "75%             33.395000   536.000000              25.310000   \n",
       "max            326.490000  2150.000000             270.400000   \n",
       "\n",
       "       Listing_Gains_Profit  \n",
       "count            319.000000  \n",
       "mean               0.545455  \n",
       "std                0.498712  \n",
       "min                0.000000  \n",
       "25%                0.000000  \n",
       "50%                1.000000  \n",
       "75%                1.000000  \n",
       "max                1.000000  "
      ]
     },
     "execution_count": 104,
     "metadata": {},
     "output_type": "execute_result"
    }
   ],
   "source": [
    "indian_ipo_market_data.describe() # checking the summary stats for our dataset"
   ]
  },
  {
   "cell_type": "code",
   "execution_count": 105,
   "metadata": {},
   "outputs": [
    {
     "data": {
      "text/plain": [
       "1    0.545455\n",
       "0    0.454545\n",
       "Name: Listing_Gains_Profit, dtype: float64"
      ]
     },
     "execution_count": 105,
     "metadata": {},
     "output_type": "execute_result"
    }
   ],
   "source": [
    "indian_ipo_market_data['Listing_Gains_Profit'].value_counts(normalize=True) \n",
    "\n",
    "# An average IPO tends to be slightly more profitable than not!\n",
    "# 54% of IPOs listed were profitable."
   ]
  },
  {
   "cell_type": "code",
   "execution_count": 106,
   "metadata": {},
   "outputs": [
    {
     "name": "stderr",
     "output_type": "stream",
     "text": [
      "/tmp/ipykernel_64/653921556.py:1: FutureWarning: The default value of numeric_only in DataFrame.corr is deprecated. In a future version, it will default to False. Select only valid columns or specify the value of numeric_only to silence this warning.\n",
      "  indian_ipo_market_data.corr() # checking for correlations in our dataset\n"
     ]
    },
    {
     "data": {
      "text/html": [
       "<div>\n",
       "<style scoped>\n",
       "    .dataframe tbody tr th:only-of-type {\n",
       "        vertical-align: middle;\n",
       "    }\n",
       "\n",
       "    .dataframe tbody tr th {\n",
       "        vertical-align: top;\n",
       "    }\n",
       "\n",
       "    .dataframe thead th {\n",
       "        text-align: right;\n",
       "    }\n",
       "</style>\n",
       "<table border=\"1\" class=\"dataframe\">\n",
       "  <thead>\n",
       "    <tr style=\"text-align: right;\">\n",
       "      <th></th>\n",
       "      <th>Issue_Size</th>\n",
       "      <th>Subscription_QIB</th>\n",
       "      <th>Subscription_HNI</th>\n",
       "      <th>Subscription_RII</th>\n",
       "      <th>Subscription_Total</th>\n",
       "      <th>Issue_Price</th>\n",
       "      <th>Listing_Gains_Percent</th>\n",
       "      <th>Listing_Gains_Profit</th>\n",
       "    </tr>\n",
       "  </thead>\n",
       "  <tbody>\n",
       "    <tr>\n",
       "      <th>Issue_Size</th>\n",
       "      <td>1.000000</td>\n",
       "      <td>-0.037724</td>\n",
       "      <td>-0.103484</td>\n",
       "      <td>-0.147791</td>\n",
       "      <td>-0.093351</td>\n",
       "      <td>0.364733</td>\n",
       "      <td>0.019782</td>\n",
       "      <td>0.004717</td>\n",
       "    </tr>\n",
       "    <tr>\n",
       "      <th>Subscription_QIB</th>\n",
       "      <td>-0.037724</td>\n",
       "      <td>1.000000</td>\n",
       "      <td>0.773933</td>\n",
       "      <td>0.437462</td>\n",
       "      <td>0.815785</td>\n",
       "      <td>0.188105</td>\n",
       "      <td>0.395864</td>\n",
       "      <td>0.323499</td>\n",
       "    </tr>\n",
       "    <tr>\n",
       "      <th>Subscription_HNI</th>\n",
       "      <td>-0.103484</td>\n",
       "      <td>0.773933</td>\n",
       "      <td>1.000000</td>\n",
       "      <td>0.622993</td>\n",
       "      <td>0.954816</td>\n",
       "      <td>0.037283</td>\n",
       "      <td>0.375127</td>\n",
       "      <td>0.271879</td>\n",
       "    </tr>\n",
       "    <tr>\n",
       "      <th>Subscription_RII</th>\n",
       "      <td>-0.147791</td>\n",
       "      <td>0.437462</td>\n",
       "      <td>0.622993</td>\n",
       "      <td>1.000000</td>\n",
       "      <td>0.718738</td>\n",
       "      <td>-0.072112</td>\n",
       "      <td>0.424873</td>\n",
       "      <td>0.240842</td>\n",
       "    </tr>\n",
       "    <tr>\n",
       "      <th>Subscription_Total</th>\n",
       "      <td>-0.093351</td>\n",
       "      <td>0.815785</td>\n",
       "      <td>0.954816</td>\n",
       "      <td>0.718738</td>\n",
       "      <td>1.000000</td>\n",
       "      <td>0.051174</td>\n",
       "      <td>0.410753</td>\n",
       "      <td>0.283340</td>\n",
       "    </tr>\n",
       "    <tr>\n",
       "      <th>Issue_Price</th>\n",
       "      <td>0.364733</td>\n",
       "      <td>0.188105</td>\n",
       "      <td>0.037283</td>\n",
       "      <td>-0.072112</td>\n",
       "      <td>0.051174</td>\n",
       "      <td>1.000000</td>\n",
       "      <td>0.017544</td>\n",
       "      <td>0.039548</td>\n",
       "    </tr>\n",
       "    <tr>\n",
       "      <th>Listing_Gains_Percent</th>\n",
       "      <td>0.019782</td>\n",
       "      <td>0.395864</td>\n",
       "      <td>0.375127</td>\n",
       "      <td>0.424873</td>\n",
       "      <td>0.410753</td>\n",
       "      <td>0.017544</td>\n",
       "      <td>1.000000</td>\n",
       "      <td>0.673510</td>\n",
       "    </tr>\n",
       "    <tr>\n",
       "      <th>Listing_Gains_Profit</th>\n",
       "      <td>0.004717</td>\n",
       "      <td>0.323499</td>\n",
       "      <td>0.271879</td>\n",
       "      <td>0.240842</td>\n",
       "      <td>0.283340</td>\n",
       "      <td>0.039548</td>\n",
       "      <td>0.673510</td>\n",
       "      <td>1.000000</td>\n",
       "    </tr>\n",
       "  </tbody>\n",
       "</table>\n",
       "</div>"
      ],
      "text/plain": [
       "                       Issue_Size  Subscription_QIB  Subscription_HNI  \\\n",
       "Issue_Size               1.000000         -0.037724         -0.103484   \n",
       "Subscription_QIB        -0.037724          1.000000          0.773933   \n",
       "Subscription_HNI        -0.103484          0.773933          1.000000   \n",
       "Subscription_RII        -0.147791          0.437462          0.622993   \n",
       "Subscription_Total      -0.093351          0.815785          0.954816   \n",
       "Issue_Price              0.364733          0.188105          0.037283   \n",
       "Listing_Gains_Percent    0.019782          0.395864          0.375127   \n",
       "Listing_Gains_Profit     0.004717          0.323499          0.271879   \n",
       "\n",
       "                       Subscription_RII  Subscription_Total  Issue_Price  \\\n",
       "Issue_Size                    -0.147791           -0.093351     0.364733   \n",
       "Subscription_QIB               0.437462            0.815785     0.188105   \n",
       "Subscription_HNI               0.622993            0.954816     0.037283   \n",
       "Subscription_RII               1.000000            0.718738    -0.072112   \n",
       "Subscription_Total             0.718738            1.000000     0.051174   \n",
       "Issue_Price                   -0.072112            0.051174     1.000000   \n",
       "Listing_Gains_Percent          0.424873            0.410753     0.017544   \n",
       "Listing_Gains_Profit           0.240842            0.283340     0.039548   \n",
       "\n",
       "                       Listing_Gains_Percent  Listing_Gains_Profit  \n",
       "Issue_Size                          0.019782              0.004717  \n",
       "Subscription_QIB                    0.395864              0.323499  \n",
       "Subscription_HNI                    0.375127              0.271879  \n",
       "Subscription_RII                    0.424873              0.240842  \n",
       "Subscription_Total                  0.410753              0.283340  \n",
       "Issue_Price                         0.017544              0.039548  \n",
       "Listing_Gains_Percent               1.000000              0.673510  \n",
       "Listing_Gains_Profit                0.673510              1.000000  "
      ]
     },
     "execution_count": 106,
     "metadata": {},
     "output_type": "execute_result"
    }
   ],
   "source": [
    "indian_ipo_market_data.corr() # checking for correlations in our dataset\n"
   ]
  },
  {
   "cell_type": "code",
   "execution_count": 107,
   "metadata": {},
   "outputs": [
    {
     "data": {
      "image/png": "[encoded data removed]",
      "text/plain": [
       "<Figure size 640x480 with 1 Axes>"
      ]
     },
     "metadata": {},
     "output_type": "display_data"
    }
   ],
   "source": [
    "sns.countplot(data=indian_ipo_market_data, x='Listing_Gains_Profit')\n",
    "plt.show() # visualizing the distribution of target variable\n",
    "# the visualization backs the fact that IPOs are more prfitable than not\n"
   ]
  },
  {
   "cell_type": "code",
   "execution_count": 108,
   "metadata": {},
   "outputs": [
    {
     "data": {
      "text/plain": [
       "<AxesSubplot: xlabel='Listing_Gains_Profit', ylabel='Subscription_QIB'>"
      ]
     },
     "execution_count": 108,
     "metadata": {},
     "output_type": "execute_result"
    },
    {
     "data": {
      "image/png": "[encoded data removed]",
      "text/plain": [
       "<Figure size 640x480 with 1 Axes>"
      ]
     },
     "metadata": {},
     "output_type": "display_data"
    }
   ],
   "source": [
    "sns.boxplot(indian_ipo_market_data, x='Listing_Gains_Profit', y='Subscription_QIB')\n",
    "\n",
    "\n"
   ]
  },
  {
   "cell_type": "code",
   "execution_count": 109,
   "metadata": {},
   "outputs": [
    {
     "data": {
      "text/plain": [
       "<AxesSubplot: xlabel='Listing_Gains_Profit', ylabel='Subscription_HNI'>"
      ]
     },
     "execution_count": 109,
     "metadata": {},
     "output_type": "execute_result"
    },
    {
     "data": {
      "image/png": "[encoded data removed]",
      "text/plain": [
       "<Figure size 640x480 with 1 Axes>"
      ]
     },
     "metadata": {},
     "output_type": "display_data"
    }
   ],
   "source": [
    "sns.boxplot(indian_ipo_market_data, x='Listing_Gains_Profit', y='Subscription_HNI')\n"
   ]
  },
  {
   "cell_type": "code",
   "execution_count": 110,
   "metadata": {},
   "outputs": [
    {
     "data": {
      "text/plain": [
       "<AxesSubplot: xlabel='Listing_Gains_Profit', ylabel='Subscription_RII'>"
      ]
     },
     "execution_count": 110,
     "metadata": {},
     "output_type": "execute_result"
    },
    {
     "data": {
      "image/png": "[encoded data removed]",
      "text/plain": [
       "<Figure size 640x480 with 1 Axes>"
      ]
     },
     "metadata": {},
     "output_type": "display_data"
    }
   ],
   "source": [
    "sns.boxplot(indian_ipo_market_data, x='Listing_Gains_Profit', y='Subscription_RII')\n"
   ]
  },
  {
   "cell_type": "code",
   "execution_count": 111,
   "metadata": {},
   "outputs": [
    {
     "data": {
      "text/plain": [
       "Index(['Date ', 'IPOName', 'Issue_Size', 'Subscription_QIB',\n",
       "       'Subscription_HNI', 'Subscription_RII', 'Subscription_Total',\n",
       "       'Issue_Price', 'Listing_Gains_Percent', 'Listing_Gains_Profit'],\n",
       "      dtype='object')"
      ]
     },
     "execution_count": 111,
     "metadata": {},
     "output_type": "execute_result"
    }
   ],
   "source": [
    "indian_ipo_market_data.columns"
   ]
  },
  {
   "cell_type": "code",
   "execution_count": 112,
   "metadata": {},
   "outputs": [
    {
     "data": {
      "image/png": "[encoded data removed]",
      "text/plain": [
       "<Figure size 640x480 with 1 Axes>"
      ]
     },
     "metadata": {},
     "output_type": "display_data"
    }
   ],
   "source": [
    "plt.scatter(indian_ipo_market_data['Subscription_QIB'],indian_ipo_market_data['Subscription_HNI'])\n",
    "plt.xlabel('Subscription_QIB')\n",
    "plt.ylabel('Subscription_HNI')\n",
    "plt.show()\n",
    "\n"
   ]
  },
  {
   "cell_type": "code",
   "execution_count": 113,
   "metadata": {},
   "outputs": [
    {
     "data": {
      "image/png": "[encoded data removed]",
      "text/plain": [
       "<Figure size 640x480 with 1 Axes>"
      ]
     },
     "metadata": {},
     "output_type": "display_data"
    }
   ],
   "source": [
    "plt.scatter(indian_ipo_market_data['Subscription_HNI'],indian_ipo_market_data['Subscription_RII'])\n",
    "plt.xlabel('Subscription_HNI')\n",
    "plt.ylabel('Subscription_RII')\n",
    "plt.show()\n"
   ]
  },
  {
   "cell_type": "code",
   "execution_count": 114,
   "metadata": {},
   "outputs": [
    {
     "data": {
      "image/png": "[encoded data removed]",
      "text/plain": [
       "<Figure size 640x480 with 1 Axes>"
      ]
     },
     "metadata": {},
     "output_type": "display_data"
    }
   ],
   "source": [
    "plt.scatter(indian_ipo_market_data['Subscription_QIB'],indian_ipo_market_data['Subscription_RII'])\n",
    "plt.xlabel('Subscription_QIB')\n",
    "plt.ylabel('Subscription_RII')\n",
    "plt.show()\n",
    "\n"
   ]
  },
  {
   "cell_type": "code",
   "execution_count": 115,
   "metadata": {},
   "outputs": [
    {
     "data": {
      "image/png": "[encoded data removed]",
      "text/plain": [
       "<Figure size 640x480 with 1 Axes>"
      ]
     },
     "metadata": {},
     "output_type": "display_data"
    }
   ],
   "source": [
    "plt.scatter(indian_ipo_market_data['Subscription_QIB'],indian_ipo_market_data['Subscription_Total'])\n",
    "plt.xlabel('Subscription_QIB')\n",
    "plt.ylabel('Subscription_Total')\n",
    "plt.show()"
   ]
  },
  {
   "cell_type": "code",
   "execution_count": 116,
   "metadata": {},
   "outputs": [
    {
     "data": {
      "text/plain": [
       "<AxesSubplot: xlabel='Subscription_QIB', ylabel='Subscription_RII'>"
      ]
     },
     "execution_count": 116,
     "metadata": {},
     "output_type": "execute_result"
    },
    {
     "data": {
      "image/png": "[encoded data removed]",
      "text/plain": [
       "<Figure size 640x480 with 1 Axes>"
      ]
     },
     "metadata": {},
     "output_type": "display_data"
    }
   ],
   "source": [
    "sns.scatterplot(indian_ipo_market_data, x='Subscription_QIB', y='Subscription_RII', hue='Listing_Gains_Profit')\n"
   ]
  },
  {
   "cell_type": "markdown",
   "metadata": {},
   "source": [
    "From the visualization and pearson correlation coefficients we understand the following:\n",
    "- Subscription_QIB, Subscription_HII, Subscription_RII, are the only variables with acceptable correlations for our model\n",
    "- Subscription_Total is essentially a sum of all subscriptions, and therefore correlated with other variables, and we can drop this variable.\n",
    "- The variables have outliers which would need to be treated.\n"
   ]
  },
  {
   "cell_type": "code",
   "execution_count": 117,
   "metadata": {},
   "outputs": [],
   "source": [
    "# We will treat the outliers using IQR method\n",
    "\n",
    "def outlier_treatment(column_):\n",
    "    q1 = np.quantile(column_, 0.25)\n",
    "    q3 = np.quantile(column_, 0.75)\n",
    "    iqr = q3 - q1\n",
    "    lower = q1 - (1.5 * iqr)\n",
    "    upper = q3 + (1.5 * iqr)\n",
    "    column_ = column_.clip(lower,upper)\n",
    "    return column_"
   ]
  },
  {
   "cell_type": "code",
   "execution_count": 118,
   "metadata": {},
   "outputs": [],
   "source": [
    "indian_ipo_market_data['Subscription_QIB'] = outlier_treatment(indian_ipo_market_data['Subscription_QIB'])\n",
    "indian_ipo_market_data['Subscription_HNI'] = outlier_treatment(indian_ipo_market_data['Subscription_HNI'])\n",
    "indian_ipo_market_data['Subscription_RII'] = outlier_treatment(indian_ipo_market_data['Subscription_RII'])"
   ]
  },
  {
   "cell_type": "code",
   "execution_count": 119,
   "metadata": {},
   "outputs": [
    {
     "data": {
      "text/plain": [
       "Index(['Date ', 'IPOName', 'Issue_Size', 'Subscription_QIB',\n",
       "       'Subscription_HNI', 'Subscription_RII', 'Subscription_Total',\n",
       "       'Issue_Price', 'Listing_Gains_Percent', 'Listing_Gains_Profit'],\n",
       "      dtype='object')"
      ]
     },
     "execution_count": 119,
     "metadata": {},
     "output_type": "execute_result"
    }
   ],
   "source": [
    "indian_ipo_market_data.columns"
   ]
  },
  {
   "cell_type": "code",
   "execution_count": 120,
   "metadata": {},
   "outputs": [],
   "source": [
    "# Dropping the unnecessary columns\n",
    "dropping_cols = ['Date ', 'IPOName', 'Issue_Size', 'Subscription_Total',\n",
    "       'Issue_Price', 'Listing_Gains_Percent', 'Listing_Gains_Profit']\n",
    "\n",
    "# Setting target and predictor variables\n",
    "X = indian_ipo_market_data.drop(dropping_cols, axis=1)\n",
    "y = indian_ipo_market_data['Listing_Gains_Profit']\n"
   ]
  },
  {
   "cell_type": "code",
   "execution_count": 121,
   "metadata": {},
   "outputs": [
    {
     "data": {
      "text/html": [
       "<div>\n",
       "<style scoped>\n",
       "    .dataframe tbody tr th:only-of-type {\n",
       "        vertical-align: middle;\n",
       "    }\n",
       "\n",
       "    .dataframe tbody tr th {\n",
       "        vertical-align: top;\n",
       "    }\n",
       "\n",
       "    .dataframe thead th {\n",
       "        text-align: right;\n",
       "    }\n",
       "</style>\n",
       "<table border=\"1\" class=\"dataframe\">\n",
       "  <thead>\n",
       "    <tr style=\"text-align: right;\">\n",
       "      <th></th>\n",
       "      <th>Subscription_QIB</th>\n",
       "      <th>Subscription_HNI</th>\n",
       "      <th>Subscription_RII</th>\n",
       "    </tr>\n",
       "  </thead>\n",
       "  <tbody>\n",
       "    <tr>\n",
       "      <th>count</th>\n",
       "      <td>319.000000</td>\n",
       "      <td>319.000000</td>\n",
       "      <td>319.000000</td>\n",
       "    </tr>\n",
       "    <tr>\n",
       "      <th>mean</th>\n",
       "      <td>0.253601</td>\n",
       "      <td>0.263157</td>\n",
       "      <td>0.309232</td>\n",
       "    </tr>\n",
       "    <tr>\n",
       "      <th>std</th>\n",
       "      <td>0.342961</td>\n",
       "      <td>0.374477</td>\n",
       "      <td>0.315147</td>\n",
       "    </tr>\n",
       "    <tr>\n",
       "      <th>min</th>\n",
       "      <td>0.000000</td>\n",
       "      <td>0.000000</td>\n",
       "      <td>0.000000</td>\n",
       "    </tr>\n",
       "    <tr>\n",
       "      <th>25%</th>\n",
       "      <td>0.013551</td>\n",
       "      <td>0.008184</td>\n",
       "      <td>0.065051</td>\n",
       "    </tr>\n",
       "    <tr>\n",
       "      <th>50%</th>\n",
       "      <td>0.058212</td>\n",
       "      <td>0.033061</td>\n",
       "      <td>0.174490</td>\n",
       "    </tr>\n",
       "    <tr>\n",
       "      <th>75%</th>\n",
       "      <td>0.408131</td>\n",
       "      <td>0.404910</td>\n",
       "      <td>0.439031</td>\n",
       "    </tr>\n",
       "    <tr>\n",
       "      <th>max</th>\n",
       "      <td>1.000000</td>\n",
       "      <td>1.000000</td>\n",
       "      <td>1.000000</td>\n",
       "    </tr>\n",
       "  </tbody>\n",
       "</table>\n",
       "</div>"
      ],
      "text/plain": [
       "       Subscription_QIB  Subscription_HNI  Subscription_RII\n",
       "count        319.000000        319.000000        319.000000\n",
       "mean           0.253601          0.263157          0.309232\n",
       "std            0.342961          0.374477          0.315147\n",
       "min            0.000000          0.000000          0.000000\n",
       "25%            0.013551          0.008184          0.065051\n",
       "50%            0.058212          0.033061          0.174490\n",
       "75%            0.408131          0.404910          0.439031\n",
       "max            1.000000          1.000000          1.000000"
      ]
     },
     "execution_count": 121,
     "metadata": {},
     "output_type": "execute_result"
    }
   ],
   "source": [
    "# Normalizing the predictor variables using the max values for each variable:\n",
    "X_normal = X.copy()\n",
    "for i in X_normal.columns:\n",
    "    X_normal[i] = X_normal[i].apply(lambda x: x/X_normal[i].max())\n",
    "    \n",
    "X_normal.describe()\n"
   ]
  },
  {
   "cell_type": "code",
   "execution_count": 122,
   "metadata": {},
   "outputs": [],
   "source": [
    "# Using the hold-out valdidation approach by creating train and test split:\n",
    "\n",
    "X_train, X_test, y_train, y_test = train_test_split(X_normal,y, test_size=0.2,\n",
    "                                                   random_state=101)\n"
   ]
  },
  {
   "cell_type": "code",
   "execution_count": 123,
   "metadata": {},
   "outputs": [
    {
     "data": {
      "text/plain": [
       "(255, 3)"
      ]
     },
     "execution_count": 123,
     "metadata": {},
     "output_type": "execute_result"
    }
   ],
   "source": [
    "X_train.shape"
   ]
  },
  {
   "cell_type": "code",
   "execution_count": 124,
   "metadata": {},
   "outputs": [
    {
     "data": {
      "text/plain": [
       "(64, 3)"
      ]
     },
     "execution_count": 124,
     "metadata": {},
     "output_type": "execute_result"
    }
   ],
   "source": [
    "X_test.shape"
   ]
  },
  {
   "cell_type": "code",
   "execution_count": 138,
   "metadata": {},
   "outputs": [
    {
     "name": "stdout",
     "output_type": "stream",
     "text": [
      "Model: \"sequential_4\"\n",
      "_________________________________________________________________\n",
      " Layer (type)                Output Shape              Param #   \n",
      "=================================================================\n",
      " dense_8 (Dense)             (None, 32)                128       \n",
      "                                                                 \n",
      " dense_9 (Dense)             (None, 1)                 33        \n",
      "                                                                 \n",
      "=================================================================\n",
      "Total params: 161\n",
      "Trainable params: 161\n",
      "Non-trainable params: 0\n",
      "_________________________________________________________________\n"
     ]
    }
   ],
   "source": [
    "# Instantiating a model with the Keras Sequential API in TensorFlow\n",
    "# Model1 - creating a shallow neural network with Sequantial API\n",
    "model1 = tf.keras.Sequential()\n",
    "\n",
    "# Adding a layer with 32 nodes, and using rectified linear unit activation\n",
    "model1.add(tf.keras.layers.Dense(32, \n",
    "                                 input_shape=(X_train.shape[1],),\n",
    "                                 activation = 'relu'))\n",
    "# Adding the outplut layer\n",
    "model1.add(tf.keras.layers.Dense(1))\n",
    "\n",
    "model1.summary()\n",
    "\n"
   ]
  },
  {
   "cell_type": "code",
   "execution_count": 139,
   "metadata": {},
   "outputs": [
    {
     "name": "stdout",
     "output_type": "stream",
     "text": [
      "Model: \"sequential_4\"\n",
      "_________________________________________________________________\n",
      " Layer (type)                Output Shape              Param #   \n",
      "=================================================================\n",
      " dense_8 (Dense)             (None, 32)                128       \n",
      "                                                                 \n",
      " dense_9 (Dense)             (None, 1)                 33        \n",
      "                                                                 \n",
      "=================================================================\n",
      "Total params: 161\n",
      "Trainable params: 161\n",
      "Non-trainable params: 0\n",
      "_________________________________________________________________\n"
     ]
    }
   ],
   "source": [
    "# Compiling Model\n",
    "# Using Adam optimizer and binary cross entropy as loss function\n",
    "# Using Binary Accuracy and False-Negatives for metrics\n",
    "optimizer = tf.keras.optimizers.Adam(learning_rate=0.01)\n",
    "loss = tf.keras.losses.BinaryCrossentropy()\n",
    "model1.compile(loss=loss, optimizer=optimizer,\n",
    "             metrics=[keras.metrics.BinaryAccuracy(),\n",
    "                     keras.metrics.FalseNegatives()])\n",
    "\n",
    "model1.summary()"
   ]
  },
  {
   "cell_type": "code",
   "execution_count": 140,
   "metadata": {},
   "outputs": [
    {
     "data": {
      "text/plain": [
       "<keras.callbacks.History at 0x7f5fc811dcf0>"
      ]
     },
     "execution_count": 140,
     "metadata": {},
     "output_type": "execute_result"
    }
   ],
   "source": [
    "# Fitting the model on our training dataset, using epochs=150 and verbose 0 to reduce clutter in the output\n",
    "model1.fit(X_train,y_train, epochs=150, verbose=0)"
   ]
  },
  {
   "cell_type": "code",
   "execution_count": 141,
   "metadata": {},
   "outputs": [
    {
     "name": "stdout",
     "output_type": "stream",
     "text": [
      "8/8 [==============================] - 0s 1ms/step - loss: 0.5476 - binary_accuracy: 0.7216 - false_negatives_4: 44.0000\n"
     ]
    },
    {
     "data": {
      "text/plain": [
       "[0.5475767254829407, 0.7215686440467834, 44.0]"
      ]
     },
     "execution_count": 141,
     "metadata": {},
     "output_type": "execute_result"
    }
   ],
   "source": [
    "# Evaluating the model:\n",
    "model1.evaluate(X_train,y_train)"
   ]
  },
  {
   "cell_type": "code",
   "execution_count": 142,
   "metadata": {},
   "outputs": [
    {
     "name": "stdout",
     "output_type": "stream",
     "text": [
      "2/2 [==============================] - 0s 2ms/step - loss: 0.8850 - binary_accuracy: 0.5938 - false_negatives_4: 21.0000\n"
     ]
    },
    {
     "data": {
      "text/plain": [
       "[0.8850120306015015, 0.59375, 21.0]"
      ]
     },
     "execution_count": 142,
     "metadata": {},
     "output_type": "execute_result"
    }
   ],
   "source": [
    "# Evaluating the model on test dataset:\n",
    "model1.evaluate(X_test,y_test)"
   ]
  },
  {
   "cell_type": "markdown",
   "metadata": {},
   "source": [
    "The Model1 shallow neural network with sequantial API gives us an accuracy of 72% and 44 false negatives on training data. And 60% accuracy and 21 false negatives on test data."
   ]
  },
  {
   "cell_type": "code",
   "execution_count": 144,
   "metadata": {},
   "outputs": [],
   "source": [
    "# Creating Model2, a dense multi-layer deep neural network model with 6 layer:\n",
    "\n",
    "model2 = tf.keras.Sequential()\n",
    "\n",
    "model2.add(tf.keras.layers.Dense(32,\n",
    "                               input_shape=[X_train.shape[1],],\n",
    "                               activation='relu'))\n",
    "model2.add(tf.keras.layers.Dense(16,\n",
    "                               activation='relu'))\n",
    "model2.add(tf.keras.layers.Dense(8,\n",
    "                               activation='relu'))\n",
    "model2.add(tf.keras.layers.Dense(4,\n",
    "                               activation='relu'))\n",
    "model2.add(tf.keras.layers.Dense(1)) # output layer\n",
    "\n"
   ]
  },
  {
   "cell_type": "code",
   "execution_count": 145,
   "metadata": {},
   "outputs": [
    {
     "name": "stdout",
     "output_type": "stream",
     "text": [
      "Model: \"sequential_6\"\n",
      "_________________________________________________________________\n",
      " Layer (type)                Output Shape              Param #   \n",
      "=================================================================\n",
      " dense_10 (Dense)            (None, 32)                128       \n",
      "                                                                 \n",
      " dense_11 (Dense)            (None, 16)                528       \n",
      "                                                                 \n",
      " dense_12 (Dense)            (None, 8)                 136       \n",
      "                                                                 \n",
      " dense_13 (Dense)            (None, 4)                 36        \n",
      "                                                                 \n",
      " dense_14 (Dense)            (None, 1)                 5         \n",
      "                                                                 \n",
      "=================================================================\n",
      "Total params: 833\n",
      "Trainable params: 833\n",
      "Non-trainable params: 0\n",
      "_________________________________________________________________\n"
     ]
    }
   ],
   "source": [
    "model2.summary()"
   ]
  },
  {
   "cell_type": "code",
   "execution_count": 146,
   "metadata": {},
   "outputs": [
    {
     "name": "stdout",
     "output_type": "stream",
     "text": [
      "Model: \"sequential_6\"\n",
      "_________________________________________________________________\n",
      " Layer (type)                Output Shape              Param #   \n",
      "=================================================================\n",
      " dense_10 (Dense)            (None, 32)                128       \n",
      "                                                                 \n",
      " dense_11 (Dense)            (None, 16)                528       \n",
      "                                                                 \n",
      " dense_12 (Dense)            (None, 8)                 136       \n",
      "                                                                 \n",
      " dense_13 (Dense)            (None, 4)                 36        \n",
      "                                                                 \n",
      " dense_14 (Dense)            (None, 1)                 5         \n",
      "                                                                 \n",
      "=================================================================\n",
      "Total params: 833\n",
      "Trainable params: 833\n",
      "Non-trainable params: 0\n",
      "_________________________________________________________________\n"
     ]
    }
   ],
   "source": [
    "# Using the same optimizer, loss function, and metrics as for last model.\n",
    "model2.compile(loss=loss, optimizer=optimizer,\n",
    "             metrics=[keras.metrics.BinaryAccuracy(),\n",
    "                     keras.metrics.FalseNegatives()])\n",
    "\n",
    "model2.summary()"
   ]
  },
  {
   "cell_type": "code",
   "execution_count": 147,
   "metadata": {},
   "outputs": [
    {
     "data": {
      "text/plain": [
       "<keras.callbacks.History at 0x7f5fa878fd60>"
      ]
     },
     "execution_count": 147,
     "metadata": {},
     "output_type": "execute_result"
    }
   ],
   "source": [
    "# Fitting the model\n",
    "model2.fit(X_train, y_train, epochs=150, verbose=0)\n"
   ]
  },
  {
   "cell_type": "code",
   "execution_count": 148,
   "metadata": {},
   "outputs": [
    {
     "name": "stdout",
     "output_type": "stream",
     "text": [
      "8/8 [==============================] - 0s 1ms/step - loss: 0.5572 - binary_accuracy: 0.7176 - false_negatives_5: 39.0000\n"
     ]
    },
    {
     "data": {
      "text/plain": [
       "[0.5571734309196472, 0.7176470756530762, 39.0]"
      ]
     },
     "execution_count": 148,
     "metadata": {},
     "output_type": "execute_result"
    }
   ],
   "source": [
    "# Evaluating on train dataset\n",
    "model2.evaluate(X_train, y_train)"
   ]
  },
  {
   "cell_type": "code",
   "execution_count": 149,
   "metadata": {},
   "outputs": [
    {
     "name": "stdout",
     "output_type": "stream",
     "text": [
      "2/2 [==============================] - 0s 2ms/step - loss: 0.8705 - binary_accuracy: 0.6250 - false_negatives_5: 16.0000\n"
     ]
    },
    {
     "data": {
      "text/plain": [
       "[0.8704818487167358, 0.625, 16.0]"
      ]
     },
     "execution_count": 149,
     "metadata": {},
     "output_type": "execute_result"
    }
   ],
   "source": [
    "# Evaluating the test dataset\n",
    "model2.evaluate(X_test, y_test)"
   ]
  },
  {
   "cell_type": "markdown",
   "metadata": {},
   "source": [
    "The Model2 dense deep neural network with sequantial API gives us an accuracy of 72% and 39 false negatives on training data. And 63% accuracy and 16 false negatives on test data."
   ]
  },
  {
   "cell_type": "markdown",
   "metadata": {},
   "source": [
    "The Model2 with dense deep neural network with sequential API performs better classification compared to the Model1."
   ]
  },
  {
   "cell_type": "code",
   "execution_count": null,
   "metadata": {},
   "outputs": [],
   "source": []
  }
 ],
 "metadata": {
  "kernelspec": {
   "display_name": "Python 3 (ipykernel)",
   "language": "python",
   "name": "python3"
  },
  "language_info": {
   "codemirror_mode": {
    "name": "ipython",
    "version": 3
   },
   "file_extension": ".py",
   "mimetype": "text/x-python",
   "name": "python",
   "nbconvert_exporter": "python",
   "pygments_lexer": "ipython3",
   "version": "3.10.6"
  }
 },
 "nbformat": 4,
 "nbformat_minor": 4
}
